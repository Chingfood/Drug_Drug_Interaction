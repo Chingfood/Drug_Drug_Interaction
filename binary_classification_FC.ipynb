{
 "cells": [
  {
   "cell_type": "code",
   "execution_count": 1,
   "id": "affected-crime",
   "metadata": {},
   "outputs": [],
   "source": [
    "%config Completer.use_jedi = False"
   ]
  },
  {
   "cell_type": "code",
   "execution_count": 2,
   "id": "negative-sister",
   "metadata": {},
   "outputs": [],
   "source": [
    "import numpy as np"
   ]
  },
  {
   "cell_type": "code",
   "execution_count": 3,
   "id": "amateur-secretariat",
   "metadata": {},
   "outputs": [],
   "source": [
    "import os"
   ]
  },
  {
   "cell_type": "code",
   "execution_count": 4,
   "id": "overhead-instrumentation",
   "metadata": {},
   "outputs": [],
   "source": [
    "import pickle\n",
    "def save_obj(obj,path,name):\n",
    "    with open(os.path.join(path, name + '.pkl'), 'wb') as f:\n",
    "        pickle.dump(obj, f, pickle.HIGHEST_PROTOCOL)\n",
    "\n",
    "def load_obj(path):\n",
    "    with open(path, 'rb') as f:\n",
    "        return pickle.load(f)"
   ]
  },
  {
   "cell_type": "code",
   "execution_count": 5,
   "id": "flush-convenience",
   "metadata": {},
   "outputs": [],
   "source": [
    "import torch\n",
    "from torch import nn\n",
    "from torch.utils.data import DataLoader\n",
    "\n",
    "from torch.utils.data import Dataset\n"
   ]
  },
  {
   "cell_type": "markdown",
   "id": "cooked-suspension",
   "metadata": {},
   "source": [
    "ddi_label = load_obj(\"/mnt/c/Users/HP/Documents/drug_labels/training/ddi_test_510.pkl\")\n",
    "no_ddi_label = load_obj(\"/mnt/c/Users/HP/Documents/drug_labels/training/no_ddi_test_510.pkl\")"
   ]
  },
  {
   "cell_type": "markdown",
   "id": "exempt-rugby",
   "metadata": {},
   "source": [
    "\n",
    "for i in ddi_label:\n",
    "    i.append(1)\n",
    "for i in no_ddi_label:\n",
    "    i.append(-1)"
   ]
  },
  {
   "cell_type": "markdown",
   "id": "worldwide-employer",
   "metadata": {},
   "source": [
    "ddi = []\n",
    "\n",
    "for i in ddi_label:\n",
    "    ddi.append(i)\n",
    "for i in no_ddi_label:\n",
    "    ddi.append(i)"
   ]
  },
  {
   "cell_type": "markdown",
   "id": "crazy-arkansas",
   "metadata": {},
   "source": [
    "import random\n",
    "random.shuffle(ddi)"
   ]
  },
  {
   "cell_type": "markdown",
   "id": "hidden-chuck",
   "metadata": {},
   "source": [
    "ddi_np = np.array(ddi)"
   ]
  },
  {
   "cell_type": "markdown",
   "id": "handled-chile",
   "metadata": {},
   "source": [
    "ddi_np.shape"
   ]
  },
  {
   "cell_type": "markdown",
   "id": "saving-eclipse",
   "metadata": {},
   "source": [
    "np.save(\"/mnt/c/Users/HP/Documents/drug_labels/training/ddi_label_all\",ddi_np)"
   ]
  },
  {
   "cell_type": "markdown",
   "id": "black-saudi",
   "metadata": {},
   "source": [
    "np.save(\"/mnt/c/Users/HP/Documents/drug_labels/training/ddi_label_train\",ddi_np[13000:,:])\n",
    "np.save(\"/mnt/c/Users/HP/Documents/drug_labels/training/ddi_label_test\",ddi_np[:13000,:])"
   ]
  },
  {
   "cell_type": "markdown",
   "id": "studied-hughes",
   "metadata": {},
   "source": [
    "training_data = np.load(\"/mnt/c/Users/HP/Documents/drug_labels/training/scibert_1/scibert_data.npy\")"
   ]
  },
  {
   "cell_type": "markdown",
   "id": "occupational-edgar",
   "metadata": {},
   "source": [
    "training_data_torch = np.moveaxis(training_data, -1, 1)\n"
   ]
  },
  {
   "cell_type": "markdown",
   "id": "infinite-style",
   "metadata": {},
   "source": [
    "np.all(training_data[0,0,:] == training_data_torch[0,:,0])"
   ]
  },
  {
   "cell_type": "markdown",
   "id": "premier-dominican",
   "metadata": {},
   "source": [
    "for i in range(training_data.shape[0]):\n",
    "    for j in range(training_data.shape[1]):\n",
    "        if np.all(training_data[i,j,:] == training_data_torch[i,:,j]) :\n",
    "            pass\n",
    "        else:\n",
    "            print(i,j)"
   ]
  },
  {
   "cell_type": "markdown",
   "id": "devoted-jefferson",
   "metadata": {},
   "source": [
    "type(training_data) == np.ndarray"
   ]
  },
  {
   "cell_type": "code",
   "execution_count": 6,
   "id": "immune-numbers",
   "metadata": {},
   "outputs": [],
   "source": [
    "#feature file is the same for training and testing, the labeling file is different for training and testing,\n",
    "#have different index\n",
    "class DDI_Dataset(Dataset):\n",
    "    def __init__(self, feature_file, label_file, transform=False, target_transform=False):\n",
    "        if type(feature_file) == str and os.path.exists(feature_file):\n",
    "            self.features = np.load(feature_file)\n",
    "        elif type(feature_file) == np.ndarray:\n",
    "            self.features = feature_file\n",
    "        else:\n",
    "            self.features = feature_file\n",
    "            \n",
    "        if type(label_file) == str and os.path.exists(label_file):\n",
    "            self.labels = np.load(label_file)\n",
    "        elif type(label_file) == np.ndarray:\n",
    "            self.labels = label_file\n",
    "        else:\n",
    "            self.labels = label_file\n",
    "\n",
    "        self.transform = transform\n",
    "        self.target_transform = target_transform\n",
    "        _, self.counts = np.unique(self.labels[:,2], return_index=False, return_inverse=False, return_counts=True, axis=None)\n",
    "        if target_transform == True:\n",
    "            self.labels[:,2].sort()\n",
    "            \n",
    "\n",
    "    def __len__(self):\n",
    "        if self.target_transform == False:\n",
    "            return self.labels.shape[0]\n",
    "        else:\n",
    "            \n",
    "            return self.counts.min()*2\n",
    "\n",
    "    def __getitem__(self, idx):\n",
    "        if self.target_transform == False:\n",
    "\n",
    "            id1,id2,mark = self.labels[idx]\n",
    "            if mark == 1: \n",
    "                y = 1\n",
    "            else:\n",
    "                y = 0\n",
    "\n",
    "            fea = np.concatenate((self.features[id1], self.features[id2]))\n",
    "            if self.transform == True:\n",
    "                fea = np.moveaxis(fea,-1,0)\n",
    "            return fea,y\n",
    "        \n",
    "        else:\n",
    "            if idx %2 == 0:\n",
    "                id1,id2,mark = self.labels[-idx//2-1]\n",
    "            else:\n",
    "                new_idx = np.random.randint(0,self.counts.max())\n",
    "                id1,id2,mark = self.labels[new_idx]\n",
    "            \n",
    "            if mark == 1: \n",
    "                y = 1\n",
    "            else:\n",
    "                y = 0\n",
    "\n",
    "            fea = np.concatenate((self.features[id1], self.features[id2]))\n",
    "            if self.transform == True:\n",
    "                fea = np.moveaxis(fea,-1,0)\n",
    "            return fea,y\n",
    "        "
   ]
  },
  {
   "cell_type": "markdown",
   "id": "searching-channel",
   "metadata": {},
   "source": [
    "ddi_label_train = np.load(\"/mnt/c/Users/HP/Documents/drug_labels/training/ddi_label_test.npy\")"
   ]
  },
  {
   "cell_type": "markdown",
   "id": "indian-carter",
   "metadata": {},
   "source": [
    "ddi_label_train[:,2].sort()"
   ]
  },
  {
   "cell_type": "markdown",
   "id": "conventional-democracy",
   "metadata": {},
   "source": [
    "ddi_label_train[20]"
   ]
  },
  {
   "cell_type": "markdown",
   "id": "vertical-condition",
   "metadata": {},
   "source": [
    "uq,uq_idx,uq_counts = np.unique(ddi_label_train[:,2], return_index=True, return_inverse=False, return_counts=True, axis=None)"
   ]
  },
  {
   "cell_type": "markdown",
   "id": "appreciated-guess",
   "metadata": {},
   "source": [
    "uq_counts"
   ]
  },
  {
   "cell_type": "code",
   "execution_count": 7,
   "id": "trying-iceland",
   "metadata": {},
   "outputs": [],
   "source": [
    "train_dataset = DDI_Dataset(\"/mnt/c/Users/HP/Documents/drug_labels/training/scibert_2/scibert_data.npy\",\\\n",
    "                            \"/mnt/c/Users/HP/Documents/drug_labels/training/ddi_label_train.npy\",transform = True, target_transform= True)\n",
    "test_dataset = DDI_Dataset(\"/mnt/c/Users/HP/Documents/drug_labels/training/scibert_2/scibert_data.npy\",\\\n",
    "                            \"/mnt/c/Users/HP/Documents/drug_labels/training/ddi_label_test.npy\", transform = True)"
   ]
  },
  {
   "cell_type": "code",
   "execution_count": 8,
   "id": "included-teens",
   "metadata": {},
   "outputs": [],
   "source": [
    "train_dataloader = DataLoader(train_dataset, batch_size=64, shuffle=True)\n",
    "test_dataloader = DataLoader(test_dataset, batch_size=64, shuffle=True)"
   ]
  },
  {
   "cell_type": "markdown",
   "id": "still-condition",
   "metadata": {},
   "source": [
    "len(train_dataset)"
   ]
  },
  {
   "cell_type": "markdown",
   "id": "structural-muscle",
   "metadata": {},
   "source": [
    ">>> loss = nn.CrossEntropyLoss()\n",
    ">>> input = torch.randn(3, 5, requires_grad=True)\n",
    ">>> target = torch.empty(3, dtype=torch.long).random_(5)\n",
    ">>> output = loss(input, target)\n",
    ">>> output.backward()"
   ]
  },
  {
   "cell_type": "markdown",
   "id": "increased-desire",
   "metadata": {},
   "source": [
    "next(iter(train_dataloader))[1]"
   ]
  },
  {
   "cell_type": "code",
   "execution_count": 14,
   "id": "decreased-pontiac",
   "metadata": {},
   "outputs": [
    {
     "name": "stdout",
     "output_type": "stream",
     "text": [
      "Using cpu device\n",
      "NeuralNetwork(\n",
      "  (flatten): Flatten(start_dim=1, end_dim=-1)\n",
      "  (linear_relu_stack): Sequential(\n",
      "    (0): Linear(in_features=7680, out_features=1024, bias=True)\n",
      "    (1): ReLU()\n",
      "    (2): Linear(in_features=1024, out_features=256, bias=True)\n",
      "    (3): ReLU()\n",
      "    (4): Linear(in_features=256, out_features=2, bias=True)\n",
      "    (5): ReLU()\n",
      "  )\n",
      ")\n"
     ]
    }
   ],
   "source": [
    "# Get cpu or gpu device for training.\n",
    "device = \"cuda\" if torch.cuda.is_available() else \"cpu\"\n",
    "print(\"Using {} device\".format(device))\n",
    "\n",
    "# Define model\n",
    "class NeuralNetwork(nn.Module):\n",
    "    def __init__(self):\n",
    "        super(NeuralNetwork, self).__init__()\n",
    "        self.flatten = nn.Flatten()\n",
    "        self.linear_relu_stack = nn.Sequential(\n",
    "            nn.Linear(768*10, 1024),\n",
    "            nn.ReLU(),\n",
    "#             nn.Linear(4096, 1024),\n",
    "#             nn.ReLU(),\n",
    "             nn.Linear(1024, 256),\n",
    "             nn.ReLU(),\n",
    "            nn.Linear(256, 2),\n",
    "            nn.ReLU()\n",
    "        )\n",
    "\n",
    "    def forward(self, x):\n",
    "        x = self.flatten(x)\n",
    "        logits = self.linear_relu_stack(x)\n",
    "        return logits\n",
    "\n",
    "model = NeuralNetwork().to(device)\n",
    "print(model)"
   ]
  },
  {
   "cell_type": "code",
   "execution_count": 15,
   "id": "excess-savannah",
   "metadata": {},
   "outputs": [],
   "source": [
    "loss_fn = nn.CrossEntropyLoss()\n",
    "optimizer = torch.optim.SGD(model.parameters(), lr=1e-1)"
   ]
  },
  {
   "cell_type": "code",
   "execution_count": 16,
   "id": "destroyed-communication",
   "metadata": {},
   "outputs": [],
   "source": [
    "def train(dataloader, model, loss_fn, optimizer):\n",
    "    size = len(dataloader.dataset)\n",
    "    for batch, (X, y) in enumerate(dataloader):\n",
    "        X, y = X.to(device), y.to(device)\n",
    "\n",
    "        # Compute prediction error\n",
    "        pred = model(X)\n",
    "        loss = loss_fn(pred, y)\n",
    "\n",
    "        # Backpropagation\n",
    "        optimizer.zero_grad()\n",
    "        loss.backward()\n",
    "        optimizer.step()\n",
    "\n",
    "        if batch % 100 == 0:\n",
    "            loss, current = loss.item(), batch * len(X)\n",
    "            print(f\"loss: {loss:>7f}  [{current:>5d}/{size:>5d}]\")\n"
   ]
  },
  {
   "cell_type": "code",
   "execution_count": 17,
   "id": "intense-wyoming",
   "metadata": {},
   "outputs": [],
   "source": [
    "def test(dataloader, model):\n",
    "    size = len(dataloader.dataset)\n",
    "    model.eval()\n",
    "    test_loss, correct = 0, 0\n",
    "    positive_correct = 0\n",
    "    with torch.no_grad():\n",
    "        for X, y in dataloader:\n",
    "            X, y = X.to(device), y.to(device)\n",
    "            pred = model(X)\n",
    "            test_loss += loss_fn(pred, y).item()\n",
    "            correct += (pred.argmax(1) == y).type(torch.float).sum().item()\n",
    "            positive_correct += (np.logical_and((y == 1),(pred.argmax(1) == y))).type(torch.float).sum().item()\n",
    "    precision = positive_correct/correct\n",
    "    recall = positive_correct/2552\n",
    "    test_loss /= size\n",
    "    correct /= size\n",
    "    \n",
    "    print(f\"Test Error: \\n Accuracy: {(100*correct):>0.1f}%, Avg loss: {test_loss:>8f} \\n\")\n",
    "    print(f\"Precision {(100*precision):>0.1f}%, Recall: {(100*recall):>0.1f}% \\n\")"
   ]
  },
  {
   "cell_type": "markdown",
   "id": "heavy-titanium",
   "metadata": {},
   "source": [
    "X,y = next(iter(test_dataloader))"
   ]
  },
  {
   "cell_type": "markdown",
   "id": "liable-million",
   "metadata": {},
   "source": [
    "with torch.no_grad():\n",
    "    X, y = X.to(device), y.to(device)\n",
    "    pred = model(X)\n",
    "#     test_loss += loss_fn(pred, y).item()\n",
    "#     correct += (pred.argmax(1) == y).type(torch.float).sum().item()\n"
   ]
  },
  {
   "cell_type": "markdown",
   "id": "chief-reducing",
   "metadata": {},
   "source": [
    "(y == 1).numpy()"
   ]
  },
  {
   "cell_type": "markdown",
   "id": "generic-frederick",
   "metadata": {},
   "source": [
    "pred.argmax(1) == y"
   ]
  },
  {
   "cell_type": "markdown",
   "id": "assured-hobby",
   "metadata": {},
   "source": [
    "(np.logical_and((y == 1),(pred.argmax(1) == y))).type(torch.float).sum().item()"
   ]
  },
  {
   "cell_type": "markdown",
   "id": "stock-cyprus",
   "metadata": {},
   "source": [
    "size = len(dataloader.dataset)\n",
    "model.eval()\n",
    "test_loss, correct = 0, 0\n",
    "positive_correct = 0\n",
    "with torch.no_grad():\n",
    "    for X, y in dataloader:\n",
    "        X, y = X.to(device), y.to(device)\n",
    "        pred = model(X)\n",
    "        test_loss += loss_fn(pred, y).item()\n",
    "        correct += (pred.argmax(1) == y).type(torch.float).sum().item()\n",
    "\n",
    "test_loss /= size\n",
    "correct /= size\n",
    "print(f\"Test Error: \\n Accuracy: {(100*correct):>0.1f}%, Avg loss: {test_loss:>8f} \\n\")"
   ]
  },
  {
   "cell_type": "code",
   "execution_count": 18,
   "id": "central-presentation",
   "metadata": {
    "scrolled": true
   },
   "outputs": [
    {
     "name": "stdout",
     "output_type": "stream",
     "text": [
      "Epoch 1\n",
      "-------------------------------\n",
      "loss: 0.693696  [    0/47778]\n",
      "loss: 0.693147  [ 6400/47778]\n",
      "loss: 0.693147  [12800/47778]\n",
      "loss: 0.693147  [19200/47778]\n",
      "loss: 0.693147  [25600/47778]\n",
      "loss: 0.693147  [32000/47778]\n",
      "loss: 0.693147  [38400/47778]\n",
      "loss: 0.693147  [44800/47778]\n",
      "Test Error: \n",
      " Accuracy: 80.4%, Avg loss: 0.010877 \n",
      "\n",
      "Precision 0.0%, Recall: 0.0% \n",
      "\n",
      "Epoch 2\n",
      "-------------------------------\n",
      "loss: 0.693147  [    0/47778]\n",
      "loss: 0.693147  [ 6400/47778]\n",
      "loss: 0.693147  [12800/47778]\n",
      "loss: 0.693147  [19200/47778]\n",
      "loss: 0.693147  [25600/47778]\n",
      "loss: 0.693147  [32000/47778]\n",
      "loss: 0.693147  [38400/47778]\n",
      "loss: 0.693147  [44800/47778]\n",
      "Test Error: \n",
      " Accuracy: 80.4%, Avg loss: 0.010877 \n",
      "\n",
      "Precision 0.0%, Recall: 0.0% \n",
      "\n",
      "Done!\n"
     ]
    }
   ],
   "source": [
    "epochs = 2\n",
    "for t in range(epochs):\n",
    "    print(f\"Epoch {t+1}\\n-------------------------------\")\n",
    "    train(train_dataloader, model, loss_fn, optimizer)\n",
    "    test(test_dataloader, model)\n",
    "print(\"Done!\")"
   ]
  },
  {
   "cell_type": "code",
   "execution_count": 113,
   "id": "greater-celebration",
   "metadata": {},
   "outputs": [
    {
     "name": "stdout",
     "output_type": "stream",
     "text": [
      "Saved PyTorch Model State to model.pth\n"
     ]
    }
   ],
   "source": [
    "torch.save(model.state_dict(), \"/mnt/c/Users/HP/Documents/drug_labels/training/fully_connected/model.pth\")\n",
    "print(\"Saved PyTorch Model State to model.pth\")"
   ]
  },
  {
   "cell_type": "code",
   "execution_count": 114,
   "id": "eastern-pressure",
   "metadata": {},
   "outputs": [
    {
     "data": {
      "text/plain": [
       "<All keys matched successfully>"
      ]
     },
     "execution_count": 114,
     "metadata": {},
     "output_type": "execute_result"
    }
   ],
   "source": [
    "model = NeuralNetwork()\n",
    "model.load_state_dict(torch.load(\"/mnt/c/Users/HP/Documents/drug_labels/training/fully_connected/model.pth\"))"
   ]
  },
  {
   "cell_type": "code",
   "execution_count": 115,
   "id": "junior-farming",
   "metadata": {},
   "outputs": [
    {
     "name": "stdout",
     "output_type": "stream",
     "text": [
      "Test Error: \n",
      " Accuracy: 80.4%, Avg loss: 0.010877 \n",
      "\n"
     ]
    }
   ],
   "source": [
    "test(test_dataloader,model)"
   ]
  },
  {
   "cell_type": "code",
   "execution_count": null,
   "id": "exterior-questionnaire",
   "metadata": {},
   "outputs": [],
   "source": [
    "classes = [\n",
    "\"no DDI\",\n",
    "    \"DDI\"\n",
    "]\n",
    "\n",
    "model.eval()\n",
    "x, y = test_data[0][0], test_data[0][1]\n",
    "with torch.no_grad():\n",
    "    pred = model(x)\n",
    "    predicted, actual = classes[pred[0].argmax(0)], classes[y]\n",
    "    print(f'Predicted: \"{predicted}\", Actual: \"{actual}\"')"
   ]
  }
 ],
 "metadata": {
  "kernelspec": {
   "display_name": "Python 3",
   "language": "python",
   "name": "python3"
  },
  "language_info": {
   "codemirror_mode": {
    "name": "ipython",
    "version": 3
   },
   "file_extension": ".py",
   "mimetype": "text/x-python",
   "name": "python",
   "nbconvert_exporter": "python",
   "pygments_lexer": "ipython3",
   "version": "3.7.10"
  }
 },
 "nbformat": 4,
 "nbformat_minor": 5
}
